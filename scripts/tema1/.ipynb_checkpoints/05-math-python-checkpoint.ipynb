{
 "cells": [],
 "metadata": {},
 "nbformat": 4,
 "nbformat_minor": 2
}
#prueba ahuevo que si de git repositorio
